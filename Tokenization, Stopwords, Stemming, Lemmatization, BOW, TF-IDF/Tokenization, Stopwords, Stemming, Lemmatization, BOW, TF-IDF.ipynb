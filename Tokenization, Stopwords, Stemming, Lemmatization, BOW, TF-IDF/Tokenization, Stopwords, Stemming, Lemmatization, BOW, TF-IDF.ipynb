{
 "cells": [
  {
   "cell_type": "code",
   "execution_count": 1,
   "id": "5cd57409-5f92-4d8d-8999-0ce5a8d01620",
   "metadata": {},
   "outputs": [],
   "source": [
    "paragraph = \"\"\"\n",
    "Narendra Damodardas Modi[a] (born 17 September 1950)[b] is an Indian politician who has served as the prime minister of India since 2014. Modi was the chief minister of Gujarat from 2001 to 2014 and is the member of parliament (MP) for Varanasi. He is a member of the Bharatiya Janata Party (BJP) and of the Rashtriya Swayamsevak Sangh (RSS), a right-wing Hindu nationalist paramilitary volunteer organisation. He is the longest-serving prime minister outside the Indian National Congress.[4]\n",
    "\n",
    "Modi was born and raised in Vadnagar in northeastern Gujarat, where he completed his secondary education. He was introduced to the RSS at the age of eight. At the age of 18, he was married to Jashodaben Modi, whom he abandoned soon after, only publicly acknowledging her four decades later when legally required to do so. Modi became a full-time worker for the RSS in Gujarat in 1971. The RSS assigned him to the BJP in 1985 and he rose through the party hierarchy, becoming general secretary in 1998.\n",
    "\"\"\""
   ]
  },
  {
   "cell_type": "code",
   "execution_count": 2,
   "id": "736cc27a-2a21-4c66-98d8-f9519c6c402d",
   "metadata": {},
   "outputs": [
    {
     "data": {
      "text/plain": [
       "'\\nNarendra Damodardas Modi[a] (born 17 September 1950)[b] is an Indian politician who has served as the prime minister of India since 2014. Modi was the chief minister of Gujarat from 2001 to 2014 and is the member of parliament (MP) for Varanasi. He is a member of the Bharatiya Janata Party (BJP) and of the Rashtriya Swayamsevak Sangh (RSS), a right-wing Hindu nationalist paramilitary volunteer organisation. He is the longest-serving prime minister outside the Indian National Congress.[4]\\n\\nModi was born and raised in Vadnagar in northeastern Gujarat, where he completed his secondary education. He was introduced to the RSS at the age of eight. At the age of 18, he was married to Jashodaben Modi, whom he abandoned soon after, only publicly acknowledging her four decades later when legally required to do so. Modi became a full-time worker for the RSS in Gujarat in 1971. The RSS assigned him to the BJP in 1985 and he rose through the party hierarchy, becoming general secretary in 1998.\\n'"
      ]
     },
     "execution_count": 2,
     "metadata": {},
     "output_type": "execute_result"
    }
   ],
   "source": [
    "paragraph"
   ]
  },
  {
   "cell_type": "code",
   "execution_count": 3,
   "id": "1d8ccdc7-9d2e-413c-9c68-c1e2169806f3",
   "metadata": {},
   "outputs": [],
   "source": [
    "import nltk\n",
    "from nltk.stem import PorterStemmer\n",
    "from nltk.corpus import stopwords\n",
    "from nltk.tokenize import sent_tokenize"
   ]
  },
  {
   "cell_type": "markdown",
   "id": "75bd2dbc-22f1-4056-891a-26c1c7753edd",
   "metadata": {},
   "source": [
    "### Tokenization"
   ]
  },
  {
   "cell_type": "code",
   "execution_count": 4,
   "id": "7566d791-2bca-4c76-9a41-c61ce59b8b33",
   "metadata": {},
   "outputs": [],
   "source": [
    "# tokenizarion - converts paragraph-sentences-words\n",
    "sentences = nltk.sent_tokenize(paragraph)"
   ]
  },
  {
   "cell_type": "code",
   "execution_count": 5,
   "id": "a2d1b1c0-3a8b-4eaf-9f6f-ffc7d2537dac",
   "metadata": {},
   "outputs": [
    {
     "name": "stdout",
     "output_type": "stream",
     "text": [
      "['\\nNarendra Damodardas Modi[a] (born 17 September 1950)[b] is an Indian politician who has served as the prime minister of India since 2014.', 'Modi was the chief minister of Gujarat from 2001 to 2014 and is the member of parliament (MP) for Varanasi.', 'He is a member of the Bharatiya Janata Party (BJP) and of the Rashtriya Swayamsevak Sangh (RSS), a right-wing Hindu nationalist paramilitary volunteer organisation.', 'He is the longest-serving prime minister outside the Indian National Congress.', '[4]\\n\\nModi was born and raised in Vadnagar in northeastern Gujarat, where he completed his secondary education.', 'He was introduced to the RSS at the age of eight.', 'At the age of 18, he was married to Jashodaben Modi, whom he abandoned soon after, only publicly acknowledging her four decades later when legally required to do so.', 'Modi became a full-time worker for the RSS in Gujarat in 1971.', 'The RSS assigned him to the BJP in 1985 and he rose through the party hierarchy, becoming general secretary in 1998.']\n"
     ]
    }
   ],
   "source": [
    "print(sentences)"
   ]
  },
  {
   "cell_type": "code",
   "execution_count": 6,
   "id": "dfd2a02f-4448-4cea-b6aa-fe49f4022936",
   "metadata": {},
   "outputs": [
    {
     "data": {
      "text/plain": [
       "list"
      ]
     },
     "execution_count": 6,
     "metadata": {},
     "output_type": "execute_result"
    }
   ],
   "source": [
    "type(sentences)"
   ]
  },
  {
   "cell_type": "code",
   "execution_count": 7,
   "id": "86218f94-c970-42d7-8c17-8491f16ee5c6",
   "metadata": {},
   "outputs": [
    {
     "data": {
      "text/plain": [
       "9"
      ]
     },
     "execution_count": 7,
     "metadata": {},
     "output_type": "execute_result"
    }
   ],
   "source": [
    "len(sentences)"
   ]
  },
  {
   "cell_type": "markdown",
   "id": "19ba00a5-733d-4ff6-a70c-7295455e321d",
   "metadata": {},
   "source": [
    "### Stemming"
   ]
  },
  {
   "cell_type": "code",
   "execution_count": 8,
   "id": "e251dda2-54db-4658-b49b-366ed3c5b3d9",
   "metadata": {},
   "outputs": [],
   "source": [
    "# Stemming\n",
    "stemmer =  PorterStemmer()"
   ]
  },
  {
   "cell_type": "code",
   "execution_count": 9,
   "id": "5d90dff5-7ae2-48aa-adb8-f0119b0a7eea",
   "metadata": {},
   "outputs": [
    {
     "data": {
      "text/plain": [
       "'drink'"
      ]
     },
     "execution_count": 9,
     "metadata": {},
     "output_type": "execute_result"
    }
   ],
   "source": [
    "stemmer.stem('drinking')"
   ]
  },
  {
   "cell_type": "code",
   "execution_count": 10,
   "id": "25f633eb-e9af-4a58-8e8c-c48c1c368e0b",
   "metadata": {},
   "outputs": [
    {
     "data": {
      "text/plain": [
       "'histori'"
      ]
     },
     "execution_count": 10,
     "metadata": {},
     "output_type": "execute_result"
    }
   ],
   "source": [
    "stemmer.stem('history')"
   ]
  },
  {
   "cell_type": "markdown",
   "id": "f79c0b3f-d1fb-4062-87f3-85dc1ef1d1bf",
   "metadata": {},
   "source": [
    "### Lemmatization"
   ]
  },
  {
   "cell_type": "code",
   "execution_count": 11,
   "id": "b169cd62-d712-431f-b554-81894024ea41",
   "metadata": {},
   "outputs": [],
   "source": [
    "# Lemmatization\n",
    "from nltk.stem import WordNetLemmatizer"
   ]
  },
  {
   "cell_type": "code",
   "execution_count": 12,
   "id": "a0c74eb5-9217-4b61-8514-e78e30a4cb3f",
   "metadata": {},
   "outputs": [],
   "source": [
    "lemmatizer = WordNetLemmatizer()"
   ]
  },
  {
   "cell_type": "code",
   "execution_count": 13,
   "id": "0d24eaf9-edfc-40ec-9e3e-38839eb30eec",
   "metadata": {},
   "outputs": [
    {
     "data": {
      "text/plain": [
       "'history'"
      ]
     },
     "execution_count": 13,
     "metadata": {},
     "output_type": "execute_result"
    }
   ],
   "source": [
    "lemmatizer.lemmatize('history')"
   ]
  },
  {
   "cell_type": "code",
   "execution_count": 14,
   "id": "76026782-8fc2-48c5-a4fe-b614008aaa5d",
   "metadata": {},
   "outputs": [
    {
     "data": {
      "text/plain": [
       "'go'"
      ]
     },
     "execution_count": 14,
     "metadata": {},
     "output_type": "execute_result"
    }
   ],
   "source": [
    "lemmatizer.lemmatize('goes')"
   ]
  },
  {
   "cell_type": "markdown",
   "id": "a2b2b563-a163-498f-af2c-c8c1690fa546",
   "metadata": {},
   "source": [
    "### Text Preprocessing"
   ]
  },
  {
   "cell_type": "code",
   "execution_count": 15,
   "id": "251d4249-9cb5-45ea-b25a-998d4589267b",
   "metadata": {},
   "outputs": [],
   "source": [
    "import re\n",
    "corpus=[]\n",
    "for i in range(len(sentences)):\n",
    "    review = re.sub('[^a-zA-Z]', ' ', sentences[i])\n",
    "    review = review.lower()\n",
    "    corpus.append(review)"
   ]
  },
  {
   "cell_type": "code",
   "execution_count": 16,
   "id": "811db75a-9e4e-4f6a-991f-b5551b90da5b",
   "metadata": {},
   "outputs": [
    {
     "data": {
      "text/plain": [
       "[' narendra damodardas modi a   born    september       b  is an indian politician who has served as the prime minister of india since      ',\n",
       " 'modi was the chief minister of gujarat from      to      and is the member of parliament  mp  for varanasi ',\n",
       " 'he is a member of the bharatiya janata party  bjp  and of the rashtriya swayamsevak sangh  rss   a right wing hindu nationalist paramilitary volunteer organisation ',\n",
       " 'he is the longest serving prime minister outside the indian national congress ',\n",
       " '     modi was born and raised in vadnagar in northeastern gujarat  where he completed his secondary education ',\n",
       " 'he was introduced to the rss at the age of eight ',\n",
       " 'at the age of     he was married to jashodaben modi  whom he abandoned soon after  only publicly acknowledging her four decades later when legally required to do so ',\n",
       " 'modi became a full time worker for the rss in gujarat in      ',\n",
       " 'the rss assigned him to the bjp in      and he rose through the party hierarchy  becoming general secretary in      ']"
      ]
     },
     "execution_count": 16,
     "metadata": {},
     "output_type": "execute_result"
    }
   ],
   "source": [
    "corpus"
   ]
  },
  {
   "cell_type": "code",
   "execution_count": 17,
   "id": "23ddff72-8861-4294-a1c6-c83e39f29e35",
   "metadata": {
    "scrolled": true
   },
   "outputs": [
    {
     "name": "stdout",
     "output_type": "stream",
     "text": [
      "narendra\n",
      "damodarda\n",
      "modi\n",
      "born\n",
      "septemb\n",
      "b\n",
      "indian\n",
      "politician\n",
      "serv\n",
      "prime\n",
      "minist\n",
      "india\n",
      "sinc\n",
      "modi\n",
      "chief\n",
      "minist\n",
      "gujarat\n",
      "member\n",
      "parliament\n",
      "mp\n",
      "varanasi\n",
      "member\n",
      "bharatiya\n",
      "janata\n",
      "parti\n",
      "bjp\n",
      "rashtriya\n",
      "swayamsevak\n",
      "sangh\n",
      "rss\n",
      "right\n",
      "wing\n",
      "hindu\n",
      "nationalist\n",
      "paramilitari\n",
      "volunt\n",
      "organis\n",
      "longest\n",
      "serv\n",
      "prime\n",
      "minist\n",
      "outsid\n",
      "indian\n",
      "nation\n",
      "congress\n",
      "modi\n",
      "born\n",
      "rais\n",
      "vadnagar\n",
      "northeastern\n",
      "gujarat\n",
      "complet\n",
      "secondari\n",
      "educ\n",
      "introduc\n",
      "rss\n",
      "age\n",
      "eight\n",
      "age\n",
      "marri\n",
      "jashodaben\n",
      "modi\n",
      "abandon\n",
      "soon\n",
      "publicli\n",
      "acknowledg\n",
      "four\n",
      "decad\n",
      "later\n",
      "legal\n",
      "requir\n",
      "modi\n",
      "becam\n",
      "full\n",
      "time\n",
      "worker\n",
      "rss\n",
      "gujarat\n",
      "rss\n",
      "assign\n",
      "bjp\n",
      "rose\n",
      "parti\n",
      "hierarchi\n",
      "becom\n",
      "gener\n",
      "secretari\n"
     ]
    }
   ],
   "source": [
    "#Stemming\n",
    "for i in corpus:\n",
    "    words = nltk.word_tokenize(i)\n",
    "    for word in words:\n",
    "        if word not in set(stopwords.words('english')):\n",
    "            print(stemmer.stem(word))"
   ]
  },
  {
   "cell_type": "code",
   "execution_count": 18,
   "id": "7794de40-d6a3-445f-961c-792280c97924",
   "metadata": {
    "scrolled": true
   },
   "outputs": [
    {
     "name": "stdout",
     "output_type": "stream",
     "text": [
      "narendra\n",
      "damodardas\n",
      "modi\n",
      "born\n",
      "september\n",
      "b\n",
      "indian\n",
      "politician\n",
      "served\n",
      "prime\n",
      "minister\n",
      "india\n",
      "since\n",
      "modi\n",
      "chief\n",
      "minister\n",
      "gujarat\n",
      "member\n",
      "parliament\n",
      "mp\n",
      "varanasi\n",
      "member\n",
      "bharatiya\n",
      "janata\n",
      "party\n",
      "bjp\n",
      "rashtriya\n",
      "swayamsevak\n",
      "sangh\n",
      "rss\n",
      "right\n",
      "wing\n",
      "hindu\n",
      "nationalist\n",
      "paramilitary\n",
      "volunteer\n",
      "organisation\n",
      "longest\n",
      "serving\n",
      "prime\n",
      "minister\n",
      "outside\n",
      "indian\n",
      "national\n",
      "congress\n",
      "modi\n",
      "born\n",
      "raised\n",
      "vadnagar\n",
      "northeastern\n",
      "gujarat\n",
      "completed\n",
      "secondary\n",
      "education\n",
      "introduced\n",
      "rss\n",
      "age\n",
      "eight\n",
      "age\n",
      "married\n",
      "jashodaben\n",
      "modi\n",
      "abandoned\n",
      "soon\n",
      "publicly\n",
      "acknowledging\n",
      "four\n",
      "decade\n",
      "later\n",
      "legally\n",
      "required\n",
      "modi\n",
      "became\n",
      "full\n",
      "time\n",
      "worker\n",
      "rss\n",
      "gujarat\n",
      "rss\n",
      "assigned\n",
      "bjp\n",
      "rose\n",
      "party\n",
      "hierarchy\n",
      "becoming\n",
      "general\n",
      "secretary\n"
     ]
    }
   ],
   "source": [
    "#Lemmatization\n",
    "for i in corpus:\n",
    "    words = nltk.word_tokenize(i)\n",
    "    for word in words:\n",
    "        if word not in set(stopwords.words('english')):\n",
    "            print(lemmatizer.lemmatize(word))"
   ]
  },
  {
   "cell_type": "code",
   "execution_count": 19,
   "id": "6f1ff09f-e112-4067-bf01-522531a4e249",
   "metadata": {},
   "outputs": [],
   "source": [
    "#Apply Stopwords. Lemmatize\n",
    "corpus=[]\n",
    "for i in range(len(sentences)):\n",
    "    review = re.sub('[^a-zA-Z]', ' ', sentences[i])\n",
    "    review = review.lower()\n",
    "    review = review.split()\n",
    "    review = [lemmatizer.lemmatize(word) for word in review if not word in set(stopwords.words('english'))]\n",
    "    review = ' '.join(review)\n",
    "    corpus.append(review)"
   ]
  },
  {
   "cell_type": "markdown",
   "id": "c5142f0c-a62b-4a1d-8888-b57a619b3d10",
   "metadata": {},
   "source": [
    "### Bag of Words"
   ]
  },
  {
   "cell_type": "code",
   "execution_count": 20,
   "id": "dc623f6e-e2c7-4a96-bf2b-6f1fc49cb3ca",
   "metadata": {},
   "outputs": [],
   "source": [
    "from sklearn.feature_extraction.text import CountVectorizer"
   ]
  },
  {
   "cell_type": "code",
   "execution_count": 21,
   "id": "5754fcbe-27f1-4c4d-b6af-c842d8d2dff2",
   "metadata": {},
   "outputs": [],
   "source": [
    "cv = CountVectorizer()\n",
    "#To make BOW binary, there is a parameter 'binary' set it to True"
   ]
  },
  {
   "cell_type": "code",
   "execution_count": 28,
   "id": "2bd45f01-d947-437c-a9bf-0c1a3f684810",
   "metadata": {},
   "outputs": [],
   "source": [
    "cv_ngrams = CountVectorizer(ngram_range=(2,3))\n",
    "#It will consider bigrams, trigrams"
   ]
  },
  {
   "cell_type": "code",
   "execution_count": 22,
   "id": "e50cd0e7-163c-4d57-970f-acf4dbac0d04",
   "metadata": {},
   "outputs": [],
   "source": [
    "X = cv.fit_transform(corpus)"
   ]
  },
  {
   "cell_type": "code",
   "execution_count": 29,
   "id": "e1e6fd4a-d210-4676-abe2-4a122967b9c4",
   "metadata": {},
   "outputs": [],
   "source": [
    "X_ngrams = cv_ngrams.fit_transform(corpus)"
   ]
  },
  {
   "cell_type": "code",
   "execution_count": 25,
   "id": "5e8b4dc9-6cb7-4f87-a6c0-404a4fd3e5c6",
   "metadata": {
    "scrolled": true
   },
   "outputs": [
    {
     "data": {
      "text/plain": [
       "{'narendra': 35,\n",
       " 'damodardas': 12,\n",
       " 'modi': 33,\n",
       " 'born': 8,\n",
       " 'september': 56,\n",
       " 'indian': 23,\n",
       " 'politician': 44,\n",
       " 'served': 57,\n",
       " 'prime': 45,\n",
       " 'minister': 32,\n",
       " 'india': 22,\n",
       " 'since': 59,\n",
       " 'chief': 9,\n",
       " 'gujarat': 19,\n",
       " 'member': 31,\n",
       " 'parliament': 42,\n",
       " 'mp': 34,\n",
       " 'varanasi': 64,\n",
       " 'bharatiya': 6,\n",
       " 'janata': 25,\n",
       " 'party': 43,\n",
       " 'bjp': 7,\n",
       " 'rashtriya': 48,\n",
       " 'swayamsevak': 61,\n",
       " 'sangh': 53,\n",
       " 'rss': 52,\n",
       " 'right': 50,\n",
       " 'wing': 66,\n",
       " 'hindu': 21,\n",
       " 'nationalist': 37,\n",
       " 'paramilitary': 41,\n",
       " 'volunteer': 65,\n",
       " 'organisation': 39,\n",
       " 'longest': 29,\n",
       " 'serving': 58,\n",
       " 'outside': 40,\n",
       " 'national': 36,\n",
       " 'congress': 11,\n",
       " 'raised': 47,\n",
       " 'vadnagar': 63,\n",
       " 'northeastern': 38,\n",
       " 'completed': 10,\n",
       " 'secondary': 54,\n",
       " 'education': 14,\n",
       " 'introduced': 24,\n",
       " 'age': 2,\n",
       " 'eight': 15,\n",
       " 'married': 30,\n",
       " 'jashodaben': 26,\n",
       " 'abandoned': 0,\n",
       " 'soon': 60,\n",
       " 'publicly': 46,\n",
       " 'acknowledging': 1,\n",
       " 'four': 16,\n",
       " 'decade': 13,\n",
       " 'later': 27,\n",
       " 'legally': 28,\n",
       " 'required': 49,\n",
       " 'became': 4,\n",
       " 'full': 17,\n",
       " 'time': 62,\n",
       " 'worker': 67,\n",
       " 'assigned': 3,\n",
       " 'rose': 51,\n",
       " 'hierarchy': 20,\n",
       " 'becoming': 5,\n",
       " 'general': 18,\n",
       " 'secretary': 55}"
      ]
     },
     "execution_count": 25,
     "metadata": {},
     "output_type": "execute_result"
    }
   ],
   "source": [
    "cv.vocabulary_"
   ]
  },
  {
   "cell_type": "code",
   "execution_count": 30,
   "id": "c9817139-fd02-468c-a392-fa1efbe6a32a",
   "metadata": {
    "scrolled": true
   },
   "outputs": [
    {
     "data": {
      "text/plain": [
       "{'narendra damodardas': 82,\n",
       " 'damodardas modi': 27,\n",
       " 'modi born': 76,\n",
       " 'born september': 21,\n",
       " 'september indian': 124,\n",
       " 'indian politician': 47,\n",
       " 'politician served': 99,\n",
       " 'served prime': 126,\n",
       " 'prime minister': 101,\n",
       " 'minister india': 68,\n",
       " 'india since': 44,\n",
       " 'narendra damodardas modi': 83,\n",
       " 'damodardas modi born': 28,\n",
       " 'modi born september': 78,\n",
       " 'born september indian': 22,\n",
       " 'september indian politician': 125,\n",
       " 'indian politician served': 48,\n",
       " 'politician served prime': 100,\n",
       " 'served prime minister': 127,\n",
       " 'prime minister india': 102,\n",
       " 'minister india since': 69,\n",
       " 'modi chief': 79,\n",
       " 'chief minister': 23,\n",
       " 'minister gujarat': 66,\n",
       " 'gujarat member': 38,\n",
       " 'member parliament': 64,\n",
       " 'parliament mp': 93,\n",
       " 'mp varanasi': 81,\n",
       " 'modi chief minister': 80,\n",
       " 'chief minister gujarat': 24,\n",
       " 'minister gujarat member': 67,\n",
       " 'gujarat member parliament': 39,\n",
       " 'member parliament mp': 65,\n",
       " 'parliament mp varanasi': 94,\n",
       " 'member bharatiya': 62,\n",
       " 'bharatiya janata': 13,\n",
       " 'janata party': 51,\n",
       " 'party bjp': 95,\n",
       " 'bjp rashtriya': 15,\n",
       " 'rashtriya swayamsevak': 108,\n",
       " 'swayamsevak sangh': 132,\n",
       " 'sangh rss': 121,\n",
       " 'rss right': 119,\n",
       " 'right wing': 110,\n",
       " 'wing hindu': 139,\n",
       " 'hindu nationalist': 42,\n",
       " 'nationalist paramilitary': 85,\n",
       " 'paramilitary volunteer': 91,\n",
       " 'volunteer organisation': 138,\n",
       " 'member bharatiya janata': 63,\n",
       " 'bharatiya janata party': 14,\n",
       " 'janata party bjp': 52,\n",
       " 'party bjp rashtriya': 96,\n",
       " 'bjp rashtriya swayamsevak': 16,\n",
       " 'rashtriya swayamsevak sangh': 109,\n",
       " 'swayamsevak sangh rss': 133,\n",
       " 'sangh rss right': 122,\n",
       " 'rss right wing': 120,\n",
       " 'right wing hindu': 111,\n",
       " 'wing hindu nationalist': 140,\n",
       " 'hindu nationalist paramilitary': 43,\n",
       " 'nationalist paramilitary volunteer': 86,\n",
       " 'paramilitary volunteer organisation': 92,\n",
       " 'longest serving': 58,\n",
       " 'serving prime': 128,\n",
       " 'minister outside': 70,\n",
       " 'outside indian': 89,\n",
       " 'indian national': 45,\n",
       " 'national congress': 84,\n",
       " 'longest serving prime': 59,\n",
       " 'serving prime minister': 129,\n",
       " 'prime minister outside': 103,\n",
       " 'minister outside indian': 71,\n",
       " 'outside indian national': 90,\n",
       " 'indian national congress': 46,\n",
       " 'born raised': 19,\n",
       " 'raised vadnagar': 106,\n",
       " 'vadnagar northeastern': 136,\n",
       " 'northeastern gujarat': 87,\n",
       " 'gujarat completed': 36,\n",
       " 'completed secondary': 25,\n",
       " 'secondary education': 123,\n",
       " 'modi born raised': 77,\n",
       " 'born raised vadnagar': 20,\n",
       " 'raised vadnagar northeastern': 107,\n",
       " 'vadnagar northeastern gujarat': 137,\n",
       " 'northeastern gujarat completed': 88,\n",
       " 'gujarat completed secondary': 37,\n",
       " 'completed secondary education': 26,\n",
       " 'introduced rss': 49,\n",
       " 'rss age': 114,\n",
       " 'age eight': 4,\n",
       " 'introduced rss age': 50,\n",
       " 'rss age eight': 115,\n",
       " 'age married': 5,\n",
       " 'married jashodaben': 60,\n",
       " 'jashodaben modi': 53,\n",
       " 'modi abandoned': 72,\n",
       " 'abandoned soon': 0,\n",
       " 'soon publicly': 130,\n",
       " 'publicly acknowledging': 104,\n",
       " 'acknowledging four': 2,\n",
       " 'four decade': 31,\n",
       " 'decade later': 29,\n",
       " 'later legally': 55,\n",
       " 'legally required': 57,\n",
       " 'age married jashodaben': 6,\n",
       " 'married jashodaben modi': 61,\n",
       " 'jashodaben modi abandoned': 54,\n",
       " 'modi abandoned soon': 73,\n",
       " 'abandoned soon publicly': 1,\n",
       " 'soon publicly acknowledging': 131,\n",
       " 'publicly acknowledging four': 105,\n",
       " 'acknowledging four decade': 3,\n",
       " 'four decade later': 32,\n",
       " 'decade later legally': 30,\n",
       " 'later legally required': 56,\n",
       " 'modi became': 74,\n",
       " 'became full': 9,\n",
       " 'full time': 33,\n",
       " 'time worker': 134,\n",
       " 'worker rss': 141,\n",
       " 'rss gujarat': 118,\n",
       " 'modi became full': 75,\n",
       " 'became full time': 10,\n",
       " 'full time worker': 34,\n",
       " 'time worker rss': 135,\n",
       " 'worker rss gujarat': 142,\n",
       " 'rss assigned': 116,\n",
       " 'assigned bjp': 7,\n",
       " 'bjp rose': 17,\n",
       " 'rose party': 112,\n",
       " 'party hierarchy': 97,\n",
       " 'hierarchy becoming': 40,\n",
       " 'becoming general': 11,\n",
       " 'general secretary': 35,\n",
       " 'rss assigned bjp': 117,\n",
       " 'assigned bjp rose': 8,\n",
       " 'bjp rose party': 18,\n",
       " 'rose party hierarchy': 113,\n",
       " 'party hierarchy becoming': 98,\n",
       " 'hierarchy becoming general': 41,\n",
       " 'becoming general secretary': 12}"
      ]
     },
     "execution_count": 30,
     "metadata": {},
     "output_type": "execute_result"
    }
   ],
   "source": [
    "cv_ngrams.vocabulary_"
   ]
  },
  {
   "cell_type": "code",
   "execution_count": 26,
   "id": "30813bdc-6406-41ad-9aba-a535a786ae09",
   "metadata": {},
   "outputs": [
    {
     "data": {
      "text/plain": [
       "'narendra damodardas modi born september b indian politician served prime minister india since'"
      ]
     },
     "execution_count": 26,
     "metadata": {},
     "output_type": "execute_result"
    }
   ],
   "source": [
    "corpus[0]"
   ]
  },
  {
   "cell_type": "code",
   "execution_count": 27,
   "id": "27e4a158-590f-4521-b4ea-2baefc8724e0",
   "metadata": {},
   "outputs": [
    {
     "data": {
      "text/plain": [
       "array([[0, 0, 0, 0, 0, 0, 0, 0, 1, 0, 0, 0, 1, 0, 0, 0, 0, 0, 0, 0, 0, 0,\n",
       "        1, 1, 0, 0, 0, 0, 0, 0, 0, 0, 1, 1, 0, 1, 0, 0, 0, 0, 0, 0, 0, 0,\n",
       "        1, 1, 0, 0, 0, 0, 0, 0, 0, 0, 0, 0, 1, 1, 0, 1, 0, 0, 0, 0, 0, 0,\n",
       "        0, 0]], dtype=int64)"
      ]
     },
     "execution_count": 27,
     "metadata": {},
     "output_type": "execute_result"
    }
   ],
   "source": [
    "X[0].toarray()"
   ]
  },
  {
   "cell_type": "code",
   "execution_count": 31,
   "id": "cb99a818-f1df-4d3a-82da-559d949abdf5",
   "metadata": {},
   "outputs": [
    {
     "data": {
      "text/plain": [
       "array([[0, 0, 0, 0, 0, 0, 0, 0, 0, 0, 0, 0, 0, 0, 0, 0, 0, 0, 0, 0, 0, 1,\n",
       "        1, 0, 0, 0, 0, 1, 1, 0, 0, 0, 0, 0, 0, 0, 0, 0, 0, 0, 0, 0, 0, 0,\n",
       "        1, 0, 0, 1, 1, 0, 0, 0, 0, 0, 0, 0, 0, 0, 0, 0, 0, 0, 0, 0, 0, 0,\n",
       "        0, 0, 1, 1, 0, 0, 0, 0, 0, 0, 1, 0, 1, 0, 0, 0, 1, 1, 0, 0, 0, 0,\n",
       "        0, 0, 0, 0, 0, 0, 0, 0, 0, 0, 0, 1, 1, 1, 1, 0, 0, 0, 0, 0, 0, 0,\n",
       "        0, 0, 0, 0, 0, 0, 0, 0, 0, 0, 0, 0, 0, 0, 1, 1, 1, 1, 0, 0, 0, 0,\n",
       "        0, 0, 0, 0, 0, 0, 0, 0, 0, 0, 0]], dtype=int64)"
      ]
     },
     "execution_count": 31,
     "metadata": {},
     "output_type": "execute_result"
    }
   ],
   "source": [
    "X_ngrams[0].toarray()"
   ]
  },
  {
   "cell_type": "markdown",
   "id": "c1a157b1-91b0-4d2f-b565-8dc6efcb87b2",
   "metadata": {},
   "source": [
    "### TF-IDF"
   ]
  },
  {
   "cell_type": "code",
   "execution_count": 32,
   "id": "a9e4516d-6df5-4772-8a2d-7365ba38ee1f",
   "metadata": {},
   "outputs": [],
   "source": [
    "from sklearn.feature_extraction.text import TfidfVectorizer"
   ]
  },
  {
   "cell_type": "code",
   "execution_count": 33,
   "id": "cdffa480-94c5-43a0-85b3-fc4833f8668b",
   "metadata": {},
   "outputs": [],
   "source": [
    "tfidf = TfidfVectorizer() #Can apply ngrams here as well\n",
    "#max_features - It selects only the top N most frequent tokens\n",
    "#min_df - Words that appear in fewer documents than this threshold will be ignored.\n",
    "#max_df - Words that appear in more documents than this threshold will be ignored (often stopwords or too generic)."
   ]
  },
  {
   "cell_type": "code",
   "execution_count": 34,
   "id": "c694b53b-a9a5-40ed-9716-b6d8c4612c3d",
   "metadata": {},
   "outputs": [],
   "source": [
    "X_tfidf = tfidf.fit_transform(corpus)"
   ]
  },
  {
   "cell_type": "code",
   "execution_count": 35,
   "id": "9d20ee08-7c46-48ee-a6cb-3b4da61f8017",
   "metadata": {},
   "outputs": [
    {
     "data": {
      "text/plain": [
       "'narendra damodardas modi born september b indian politician served prime minister india since'"
      ]
     },
     "execution_count": 35,
     "metadata": {},
     "output_type": "execute_result"
    }
   ],
   "source": [
    "corpus[0]"
   ]
  },
  {
   "cell_type": "code",
   "execution_count": 37,
   "id": "1ddbb6f7-7b9c-4999-b357-39ac0fdd2aa4",
   "metadata": {},
   "outputs": [
    {
     "data": {
      "text/plain": [
       "array([[0.        , 0.        , 0.        , 0.        , 0.        ,\n",
       "        0.        , 0.        , 0.        , 0.26689558, 0.        ,\n",
       "        0.        , 0.        , 0.31599638, 0.        , 0.        ,\n",
       "        0.        , 0.        , 0.        , 0.        , 0.        ,\n",
       "        0.        , 0.        , 0.31599638, 0.26689558, 0.        ,\n",
       "        0.        , 0.        , 0.        , 0.        , 0.        ,\n",
       "        0.        , 0.        , 0.232058  , 0.18295719, 0.        ,\n",
       "        0.31599638, 0.        , 0.        , 0.        , 0.        ,\n",
       "        0.        , 0.        , 0.        , 0.        , 0.31599638,\n",
       "        0.26689558, 0.        , 0.        , 0.        , 0.        ,\n",
       "        0.        , 0.        , 0.        , 0.        , 0.        ,\n",
       "        0.        , 0.31599638, 0.31599638, 0.        , 0.31599638,\n",
       "        0.        , 0.        , 0.        , 0.        , 0.        ,\n",
       "        0.        , 0.        , 0.        ]])"
      ]
     },
     "execution_count": 37,
     "metadata": {},
     "output_type": "execute_result"
    }
   ],
   "source": [
    "X_tfidf[0].toarray()"
   ]
  },
  {
   "cell_type": "code",
   "execution_count": null,
   "id": "c0463c3b-6bc0-4388-b4ed-49ec0de7c319",
   "metadata": {},
   "outputs": [],
   "source": []
  }
 ],
 "metadata": {
  "kernelspec": {
   "display_name": "Python 3 (ipykernel)",
   "language": "python",
   "name": "python3"
  },
  "language_info": {
   "codemirror_mode": {
    "name": "ipython",
    "version": 3
   },
   "file_extension": ".py",
   "mimetype": "text/x-python",
   "name": "python",
   "nbconvert_exporter": "python",
   "pygments_lexer": "ipython3",
   "version": "3.9.13"
  }
 },
 "nbformat": 4,
 "nbformat_minor": 5
}
